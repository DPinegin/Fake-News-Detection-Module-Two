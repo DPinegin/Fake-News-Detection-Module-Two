{
 "cells": [
  {
   "cell_type": "code",
   "execution_count": 21,
   "metadata": {},
   "outputs": [],
   "source": [
    "import tensorflow as tf\n",
    "from tensorflow import keras\n",
    "from tensorflow.keras.models import save_model, Sequential\n",
    "from tensorflow.keras.models import load_model"
   ]
  },
  {
   "cell_type": "code",
   "execution_count": 22,
   "metadata": {},
   "outputs": [],
   "source": [
    "# Loading the Tensorflow Saved Model (PB)\n",
    "model_path = r\"C:\\Users\\Drdr\\Desktop\\Fake News Detection\\extension\"\n"
   ]
  },
  {
   "cell_type": "code",
   "execution_count": 23,
   "metadata": {},
   "outputs": [
    {
     "name": "stdout",
     "output_type": "stream",
     "text": [
      "WARNING:tensorflow:SavedModel saved prior to TF 2.5 detected when loading Keras model. Please ensure that you are saving the model with model.save() or tf.keras.models.save_model(), *NOT* tf.saved_model.save(). To confirm, there should be a file named \"keras_metadata.pb\" in the SavedModel directory.\n"
     ]
    },
    {
     "ename": "ValueError",
     "evalue": "Unable to create a Keras model from SavedModel at C:\\Users\\Drdr\\Desktop\\Fake News Detection\\extension. This SavedModel was exported with `tf.saved_model.save`, and lacks the Keras metadata file. Please save your Keras model by calling `model.save`or `tf.keras.models.save_model`. Note that you can still load this SavedModel with `tf.saved_model.load`.",
     "output_type": "error",
     "traceback": [
      "\u001b[1;31m---------------------------------------------------------------------------\u001b[0m",
      "\u001b[1;31mValueError\u001b[0m                                Traceback (most recent call last)",
      "\u001b[1;32mc:\\Users\\Drdr\\Desktop\\Fake News Detection\\extension\\test.ipynb Cell 3\u001b[0m in \u001b[0;36m<cell line: 1>\u001b[1;34m()\u001b[0m\n\u001b[1;32m----> <a href='vscode-notebook-cell:/c%3A/Users/Drdr/Desktop/Fake%20News%20Detection/extension/test.ipynb#W2sZmlsZQ%3D%3D?line=0'>1</a>\u001b[0m model \u001b[39m=\u001b[39m keras\u001b[39m.\u001b[39;49mmodels\u001b[39m.\u001b[39;49mload_model(\u001b[39mr\u001b[39;49m\u001b[39m\"\u001b[39;49m\u001b[39mC:\u001b[39;49m\u001b[39m\\\u001b[39;49m\u001b[39mUsers\u001b[39;49m\u001b[39m\\\u001b[39;49m\u001b[39mDrdr\u001b[39;49m\u001b[39m\\\u001b[39;49m\u001b[39mDesktop\u001b[39;49m\u001b[39m\\\u001b[39;49m\u001b[39mFake News Detection\u001b[39;49m\u001b[39m\\\u001b[39;49m\u001b[39mextension\u001b[39;49m\u001b[39m\"\u001b[39;49m)\n",
      "File \u001b[1;32m~\\AppData\\Roaming\\Python\\Python310\\site-packages\\keras\\utils\\traceback_utils.py:67\u001b[0m, in \u001b[0;36mfilter_traceback.<locals>.error_handler\u001b[1;34m(*args, **kwargs)\u001b[0m\n\u001b[0;32m     65\u001b[0m \u001b[39mexcept\u001b[39;00m \u001b[39mException\u001b[39;00m \u001b[39mas\u001b[39;00m e:  \u001b[39m# pylint: disable=broad-except\u001b[39;00m\n\u001b[0;32m     66\u001b[0m   filtered_tb \u001b[39m=\u001b[39m _process_traceback_frames(e\u001b[39m.\u001b[39m__traceback__)\n\u001b[1;32m---> 67\u001b[0m   \u001b[39mraise\u001b[39;00m e\u001b[39m.\u001b[39mwith_traceback(filtered_tb) \u001b[39mfrom\u001b[39;00m \u001b[39mNone\u001b[39m\n\u001b[0;32m     68\u001b[0m \u001b[39mfinally\u001b[39;00m:\n\u001b[0;32m     69\u001b[0m   \u001b[39mdel\u001b[39;00m filtered_tb\n",
      "File \u001b[1;32m~\\AppData\\Roaming\\Python\\Python310\\site-packages\\keras\\saving\\saved_model\\load.py:204\u001b[0m, in \u001b[0;36m_read_legacy_metadata\u001b[1;34m(object_graph_def, metadata, path)\u001b[0m\n\u001b[0;32m    201\u001b[0m \u001b[39mif\u001b[39;00m (proto\u001b[39m.\u001b[39mWhichOneof(\u001b[39m'\u001b[39m\u001b[39mkind\u001b[39m\u001b[39m'\u001b[39m) \u001b[39m==\u001b[39m \u001b[39m'\u001b[39m\u001b[39muser_object\u001b[39m\u001b[39m'\u001b[39m \u001b[39mand\u001b[39;00m\n\u001b[0;32m    202\u001b[0m     proto\u001b[39m.\u001b[39muser_object\u001b[39m.\u001b[39midentifier \u001b[39min\u001b[39;00m constants\u001b[39m.\u001b[39mKERAS_OBJECT_IDENTIFIERS):\n\u001b[0;32m    203\u001b[0m   \u001b[39mif\u001b[39;00m \u001b[39mnot\u001b[39;00m proto\u001b[39m.\u001b[39muser_object\u001b[39m.\u001b[39mmetadata:\n\u001b[1;32m--> 204\u001b[0m     \u001b[39mraise\u001b[39;00m \u001b[39mValueError\u001b[39;00m(\n\u001b[0;32m    205\u001b[0m         \u001b[39mf\u001b[39m\u001b[39m'\u001b[39m\u001b[39mUnable to create a Keras model from SavedModel at \u001b[39m\u001b[39m{\u001b[39;00mpath\u001b[39m}\u001b[39;00m\u001b[39m. \u001b[39m\u001b[39m'\u001b[39m\n\u001b[0;32m    206\u001b[0m         \u001b[39m'\u001b[39m\u001b[39mThis SavedModel was exported with `tf.saved_model.save`, and \u001b[39m\u001b[39m'\u001b[39m\n\u001b[0;32m    207\u001b[0m         \u001b[39m'\u001b[39m\u001b[39mlacks the Keras metadata file. Please save your Keras model by \u001b[39m\u001b[39m'\u001b[39m\n\u001b[0;32m    208\u001b[0m         \u001b[39m'\u001b[39m\u001b[39mcalling `model.save`or `tf.keras.models.save_model`. Note that \u001b[39m\u001b[39m'\u001b[39m\n\u001b[0;32m    209\u001b[0m         \u001b[39m'\u001b[39m\u001b[39myou can still load this SavedModel with `tf.saved_model.load`.\u001b[39m\u001b[39m'\u001b[39m)\n\u001b[0;32m    210\u001b[0m   metadata\u001b[39m.\u001b[39mnodes\u001b[39m.\u001b[39madd(\n\u001b[0;32m    211\u001b[0m       node_id\u001b[39m=\u001b[39mnode_id,\n\u001b[0;32m    212\u001b[0m       node_path\u001b[39m=\u001b[39mnode_paths[node_id],\n\u001b[1;32m   (...)\u001b[0m\n\u001b[0;32m    215\u001b[0m       identifier\u001b[39m=\u001b[39mproto\u001b[39m.\u001b[39muser_object\u001b[39m.\u001b[39midentifier,\n\u001b[0;32m    216\u001b[0m       metadata\u001b[39m=\u001b[39mproto\u001b[39m.\u001b[39muser_object\u001b[39m.\u001b[39mmetadata)\n",
      "\u001b[1;31mValueError\u001b[0m: Unable to create a Keras model from SavedModel at C:\\Users\\Drdr\\Desktop\\Fake News Detection\\extension. This SavedModel was exported with `tf.saved_model.save`, and lacks the Keras metadata file. Please save your Keras model by calling `model.save`or `tf.keras.models.save_model`. Note that you can still load this SavedModel with `tf.saved_model.load`."
     ]
    }
   ],
   "source": [
    "model = keras.models.load_model(r\"C:\\Users\\Drdr\\Desktop\\Fake News Detection\\extension\")"
   ]
  },
  {
   "cell_type": "code",
   "execution_count": null,
   "metadata": {},
   "outputs": [],
   "source": []
  }
 ],
 "metadata": {
  "kernelspec": {
   "display_name": "Python 3",
   "language": "python",
   "name": "python3"
  },
  "language_info": {
   "codemirror_mode": {
    "name": "ipython",
    "version": 3
   },
   "file_extension": ".py",
   "mimetype": "text/x-python",
   "name": "python",
   "nbconvert_exporter": "python",
   "pygments_lexer": "ipython3",
   "version": "3.10.10"
  },
  "orig_nbformat": 4
 },
 "nbformat": 4,
 "nbformat_minor": 2
}
